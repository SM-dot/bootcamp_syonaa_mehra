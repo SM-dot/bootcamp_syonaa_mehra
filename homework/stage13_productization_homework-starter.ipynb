{
 "cells": [
  {
   "cell_type": "markdown",
   "id": "691fc9aa",
   "metadata": {},
   "source": [
    "# Stage 13 Homework Starter — Productization\n",
    "\n",
    "## Objective\n",
    "Deploy your trained model as a **reusable, handoff-ready API or dashboard** and finalize your project for reproducibility and clarity."
   ]
  },
  {
   "cell_type": "markdown",
   "id": "32df5c95",
   "metadata": {},
   "source": [
    "## Steps\n",
    "1. Create a mock, very basic analysis in a notebook.\n",
    "2. Clean your notebook by removing exploratory cells and documenting your code.\n",
    "3. Move reusable functions into `/src/`.\n",
    "4. Load your trained model from Stage 12 or earlier stages.\n",
    "5. Pickle/save the model and test reload.\n",
    "6. Implement **either**:\n",
    "   - Flask API with `/predict` endpoint and optional parameters\n",
    "   - Streamlit or Dash dashboard for user interaction\n",
    "7. Include:\n",
    "   - Error handling for invalid inputs\n",
    "   - `requirements.txt` for reproducibility\n",
    "   - Documentation in `README.md`\n",
    "8. Test your deployment locally and provide evidence.\n",
    "9. Organize project folders and finalize notebooks for handoff."
   ]
  },
  {
   "cell_type": "markdown",
   "id": "8e003adc",
   "metadata": {},
   "source": [
    "## 1. Create mock, very basic analysis"
   ]
  },
  {
   "cell_type": "code",
   "execution_count": 1,
   "id": "88fadda7",
   "metadata": {},
   "outputs": [
    {
     "name": "stdout",
     "output_type": "stream",
     "text": [
      "Basic analysis complete. Dataframe head:\n",
      "The history saving thread hit an unexpected error (OperationalError('attempt to write a readonly database')).History will not be written to the database.\n",
      "    feature     noise    target\n",
      "0  1.000000  0.248357  3.248357\n",
      "1  1.090909 -0.069132  3.112686\n",
      "2  1.181818  0.323844  3.687481\n",
      "3  1.272727  0.761515  4.306969\n",
      "4  1.363636 -0.117077  3.610196\n",
      "Basic analysis complete.\n"
     ]
    }
   ],
   "source": [
    "# TODO: Basic analysis step 1\n",
    "# TODO: Basic analysis step 2\n",
    "# TODO: ...\n",
    "# Creating a synthetic dataset to use for the mock analysis\n",
    "import pandas as pd\n",
    "import numpy as np\n",
    "\n",
    "# A simple linear model to predict 'target' based on 'feature'\n",
    "# This will be our mock \"trained model\" for productization\n",
    "def mock_model(feature):\n",
    "    return 2 * feature + 1\n",
    "\n",
    "# Generate a synthetic dataset\n",
    "np.random.seed(42)\n",
    "df = pd.DataFrame({\n",
    "    'feature': np.linspace(1, 10, 100),\n",
    "    'noise': np.random.normal(0, 0.5, 100)\n",
    "})\n",
    "\n",
    "# Calculate the target with some noise\n",
    "df['target'] = df['feature'].apply(mock_model) + df['noise']\n",
    "\n",
    "print(\"Basic analysis complete. Dataframe head:\")\n",
    "print(df.head())\n",
    "print(\"Basic analysis complete.\")"
   ]
  },
  {
   "cell_type": "markdown",
   "id": "9eed3f57",
   "metadata": {},
   "source": [
    "## 2. Notebook Cleanup\n",
    "Remove exploratory cells and document your code."
   ]
  },
  {
   "cell_type": "code",
   "execution_count": 2,
   "id": "008a87d2",
   "metadata": {},
   "outputs": [
    {
     "name": "stdout",
     "output_type": "stream",
     "text": [
      "Notebook cleaned and ready for handoff.\n"
     ]
    }
   ],
   "source": [
    "# TODO: Remove exploratory cells\n",
    "# TODO: Document your code clearly\n",
    "# Example placeholder for cleaned analysis\n",
    "print(\"Notebook cleaned and ready for handoff.\")"
   ]
  },
  {
   "cell_type": "markdown",
   "id": "48ea84bf",
   "metadata": {},
   "source": [
    "## 3. Move reusable functions to /src/\n",
    "Create src/utils.py and store functions there."
   ]
  },
  {
   "cell_type": "code",
   "execution_count": 3,
   "id": "ea122ef8",
   "metadata": {},
   "outputs": [],
   "source": [
    "# TODO: Move actual reusable functions here\n",
    "def calculate_metrics(df):\n",
    "    return df.describe()\n",
    "\n",
    "# A reusable function to be moved to 'src/utils.py'\n",
    "# In a real project, this would contain functions for data preprocessing,\n",
    "# feature engineering, or model evaluation.\n",
    "def preprocess_data(data):\n",
    "    \"\"\"\n",
    "    Placeholder function for data preprocessing.\n",
    "    In a real scenario, this would clean and transform the input data.\n",
    "    \"\"\"\n",
    "    # For this mock example, we'll just return the data as is.\n",
    "    return data\n",
    "\n",
    "def mock_predict(features):\n",
    "    \"\"\"\n",
    "    A mock prediction function that mirrors the behavior of our model.\n",
    "    This will be the function called by the Flask API.\n",
    "    \"\"\"\n",
    "    # Assumes 'features' is a list or array of numerical values.\n",
    "    # The sum serves as a simple placeholder prediction.\n",
    "    return sum(features)\n",
    "\n",
    "print(\"Reusable functions defined.\")\n"
   ]
  },
  {
   "cell_type": "markdown",
   "id": "42cdb383",
   "metadata": {},
   "source": [
    "## 4. Folder Structure Reminder\n",
    "\n",
    "Ensure your project uses a clean folder structure:\n",
    "```\n",
    "project/\n",
    "  data/\n",
    "  notebooks/\n",
    "  src/\n",
    "  reports/\n",
    "  model/\n",
    "  README.md\n",
    "```\n",
    "For API/Dashboard: minimal example:\n",
    "```\n",
    "project/\n",
    "    app.py\n",
    "    model.pkl\n",
    "    requirements.txt\n",
    "    README.md\n",
    "```"
   ]
  },
  {
   "cell_type": "markdown",
   "id": "356a107b",
   "metadata": {},
   "source": [
    "## 5. Pickle / Save Final Model\n",
    "\n",
    "### TODO: Replace this with your trained model"
   ]
  },
  {
   "cell_type": "code",
   "execution_count": 1,
   "id": "45ace4a6",
   "metadata": {},
   "outputs": [
    {
     "name": "stdout",
     "output_type": "stream",
     "text": [
      "Model saved to model/model.pkl\n",
      "Loaded model test prediction for [0.1, 0.2, 0.3]: 1.2\n"
     ]
    }
   ],
   "source": [
    "import pickle\n",
    "from pathlib import Path\n",
    "\n",
    "# Creating the 'model' directory if it doesn't exist\n",
    "model_dir = Path('model')\n",
    "model_dir.mkdir(parents=True, exist_ok=True)\n",
    "\n",
    "# A simple mock model to save. In a real project, this would be a scikit-learn\n",
    "# or a similar trained model object. Right now using a simple model to strengthen understanding\n",
    "class MockModel:\n",
    "    def predict(self, features):\n",
    "        return sum(features) * 2\n",
    "\n",
    "# Instantiate and save the mock model\n",
    "model = MockModel()\n",
    "with open(model_dir / 'model.pkl', 'wb') as f:\n",
    "    pickle.dump(model, f)\n",
    "\n",
    "print(\"Model saved to model/model.pkl\")\n",
    "\n",
    "# Test loading the model to ensure it was saved correctly\n",
    "with open(model_dir / 'model.pkl', 'rb') as f:\n",
    "    loaded_model = pickle.load(f)\n",
    "\n",
    "# Example prediction to verify the loaded model works\n",
    "test_features = [[0.1, 0.2, 0.3]]\n",
    "prediction = loaded_model.predict(test_features[0])\n",
    "print(f\"Loaded model test prediction for {test_features[0]}: {prediction}\")\n"
   ]
  },
  {
   "cell_type": "markdown",
   "id": "6db8a4ff",
   "metadata": {},
   "source": [
    "## 6. Flask API Starter\n",
    "\n",
    "### TODO: Implement Flask endpoints for /predict and /plot"
   ]
  },
  {
   "cell_type": "code",
   "execution_count": null,
   "id": "032a37cb",
   "metadata": {},
   "outputs": [],
   "source": [
    "from flask import Flask, request, jsonify\n",
    "import threading\n",
    "import matplotlib.pyplot as plt\n",
    "import io\n",
    "import base64\n",
    "\n",
    "app = Flask(__name__)\n",
    "\n",
    "@app.route('/predict', methods=['POST'])\n",
    "def predict():\n",
    "    # TODO: Replace placeholder logic with actual model prediction\n",
    "    data = request.get_json()\n",
    "    features = data.get('features', None)\n",
    "    if features is None:\n",
    "        return jsonify({'error': 'No features provided'}), 400\n",
    "    pred = sum(features)  # placeholder\n",
    "    return jsonify({'prediction': pred})\n",
    "\n",
    "@app.route('/predict/<float:input1>', methods=['GET'])\n",
    "def predict_one(input1):\n",
    "    pred = input1 * 2  # placeholder\n",
    "    return jsonify({'prediction': pred})\n",
    "\n",
    "@app.route('/predict/<float:input1>/<float:input2>', methods=['GET'])\n",
    "def predict_two(input1, input2):\n",
    "    pred = input1 + input2  # placeholder\n",
    "    return jsonify({'prediction': pred})\n",
    "\n",
    "@app.route('/plot')\n",
    "def plot():\n",
    "    # TODO: Replace with meaningful chart or image\n",
    "    fig, ax = plt.subplots()\n",
    "    ax.plot([0, 1, 2], [0, 1, 4])\n",
    "    buf = io.BytesIO()\n",
    "    fig.savefig(buf, format='png')\n",
    "    buf.seek(0)\n",
    "    img_bytes = base64.b64encode(buf.read()).decode('utf-8')\n",
    "    return f'<img src=\"data:image/png;base64,{img_bytes}\"/>'\n",
    "\n",
    "def run_flask():\n",
    "    app.run(port=5000)\n",
    "\n",
    "# Launch Flask in a separate thread\n",
    "threading.Thread(target=run_flask).start()"
   ]
  },
  {
   "cell_type": "markdown",
   "id": "541470d6",
   "metadata": {},
   "source": [
    "## 7. Testing the Flask API from Notebook\n",
    "\n",
    "### TODO: Modify examples with your actual features"
   ]
  },
  {
   "cell_type": "code",
   "execution_count": null,
   "id": "8748e3a6",
   "metadata": {},
   "outputs": [],
   "source": [
    "import requests\n",
    "from IPython.display import display, HTML\n",
    "\n",
    "# POST /predict\n",
    "response = requests.post(\n",
    "    'http://127.0.0.1:5000/predict',\n",
    "    json={'features':[0.1, 0.2, 0.3]}\n",
    ")\n",
    "print(response.json())\n",
    "\n",
    "# GET /predict/<input1>\n",
    "response2 = requests.get('http://127.0.0.1:5000/predict/2.0')\n",
    "print(response2.json())\n",
    "\n",
    "# GET /predict/<input1>/<input2>\n",
    "response3 = requests.get('http://127.0.0.1:5000/predict/1.0/3.0')\n",
    "print(response3.json())\n",
    "\n",
    "# GET /plot\n",
    "response_plot = requests.get('http://127.0.0.1:5000/plot')\n",
    "display(HTML(response_plot.text))"
   ]
  },
  {
   "cell_type": "markdown",
   "id": "89e21180",
   "metadata": {},
   "source": [
    "## 8. Optional Streamlit / Dash Dashboard\n",
    "\n",
    "### TODO: Add dashboard in a separate file (`app_streamlit.py` or `app_dash.py`)"
   ]
  },
  {
   "cell_type": "markdown",
   "id": "9ef90447",
   "metadata": {},
   "source": [
    "## 9. Handoff Best Practices\n",
    "\n",
    "- Ensure README.md is complete and clear\n",
    "- Provide `requirements.txt` for reproducibility\n",
    "- Ensure pickled model and scripts are in correct folders\n",
    "- Verify another user can run the project end-to-end on a fresh environment"
   ]
  }
 ],
 "metadata": {
  "kernelspec": {
   "display_name": "Python [conda env:nyu-mfe-bootcamp]",
   "language": "python",
   "name": "conda-env-nyu-mfe-bootcamp-py"
  },
  "language_info": {
   "codemirror_mode": {
    "name": "ipython",
    "version": 3
   },
   "file_extension": ".py",
   "mimetype": "text/x-python",
   "name": "python",
   "nbconvert_exporter": "python",
   "pygments_lexer": "ipython3",
   "version": "3.13.5"
  }
 },
 "nbformat": 4,
 "nbformat_minor": 5
}
