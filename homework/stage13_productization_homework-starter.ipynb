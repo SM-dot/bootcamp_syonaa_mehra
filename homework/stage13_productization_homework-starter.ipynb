{
 "cells": [
  {
   "cell_type": "markdown",
   "id": "691fc9aa",
   "metadata": {},
   "source": [
    "# Stage 13 Homework Starter — Productization\n",
    "\n",
    "## Objective\n",
    "Deploy your trained model as a **reusable, handoff-ready API or dashboard** and finalize your project for reproducibility and clarity."
   ]
  },
  {
   "cell_type": "markdown",
   "id": "32df5c95",
   "metadata": {},
   "source": [
    "## Steps\n",
    "1. Create a mock, very basic analysis in a notebook.\n",
    "2. Clean your notebook by removing exploratory cells and documenting your code.\n",
    "3. Move reusable functions into `/src/`.\n",
    "4. Load your trained model from Stage 12 or earlier stages.\n",
    "5. Pickle/save the model and test reload.\n",
    "6. Implement **either**:\n",
    "   - Flask API with `/predict` endpoint and optional parameters\n",
    "   - Streamlit or Dash dashboard for user interaction\n",
    "7. Include:\n",
    "   - Error handling for invalid inputs\n",
    "   - `requirements.txt` for reproducibility\n",
    "   - Documentation in `README.md`\n",
    "8. Test your deployment locally and provide evidence.\n",
    "9. Organize project folders and finalize notebooks for handoff."
   ]
  },
  {
   "cell_type": "markdown",
   "id": "8e003adc",
   "metadata": {},
   "source": [
    "## 1. Create mock, very basic analysis"
   ]
  },
  {
   "cell_type": "code",
   "execution_count": 1,
   "id": "88fadda7",
   "metadata": {},
   "outputs": [
    {
     "name": "stdout",
     "output_type": "stream",
     "text": [
      "Basic analysis complete. Dataframe head:\n",
      "The history saving thread hit an unexpected error (OperationalError('attempt to write a readonly database')).History will not be written to the database.\n",
      "    feature     noise    target\n",
      "0  1.000000  0.248357  3.248357\n",
      "1  1.090909 -0.069132  3.112686\n",
      "2  1.181818  0.323844  3.687481\n",
      "3  1.272727  0.761515  4.306969\n",
      "4  1.363636 -0.117077  3.610196\n",
      "Basic analysis complete.\n"
     ]
    }
   ],
   "source": [
    "# TODO: Basic analysis step 1\n",
    "# TODO: Basic analysis step 2\n",
    "# TODO: ...\n",
    "# Creating a synthetic dataset to use for the mock analysis\n",
    "import pandas as pd\n",
    "import numpy as np\n",
    "\n",
    "# A simple linear model to predict 'target' based on 'feature'\n",
    "# This will be our mock \"trained model\" for productization\n",
    "def mock_model(feature):\n",
    "    return 2 * feature + 1\n",
    "\n",
    "# Generate a synthetic dataset\n",
    "np.random.seed(42)\n",
    "df = pd.DataFrame({\n",
    "    'feature': np.linspace(1, 10, 100),\n",
    "    'noise': np.random.normal(0, 0.5, 100)\n",
    "})\n",
    "\n",
    "# Calculate the target with some noise\n",
    "df['target'] = df['feature'].apply(mock_model) + df['noise']\n",
    "\n",
    "print(\"Basic analysis complete. Dataframe head:\")\n",
    "print(df.head())\n",
    "print(\"Basic analysis complete.\")"
   ]
  },
  {
   "cell_type": "markdown",
   "id": "9eed3f57",
   "metadata": {},
   "source": [
    "## 2. Notebook Cleanup\n",
    "Remove exploratory cells and document your code."
   ]
  },
  {
   "cell_type": "code",
   "execution_count": 2,
   "id": "008a87d2",
   "metadata": {},
   "outputs": [
    {
     "name": "stdout",
     "output_type": "stream",
     "text": [
      "Notebook cleaned and ready for handoff.\n"
     ]
    }
   ],
   "source": [
    "# TODO: Remove exploratory cells\n",
    "# TODO: Document your code clearly\n",
    "# Example placeholder for cleaned analysis\n",
    "print(\"Notebook cleaned and ready for handoff.\")"
   ]
  },
  {
   "cell_type": "markdown",
   "id": "48ea84bf",
   "metadata": {},
   "source": [
    "## 3. Move reusable functions to /src/\n",
    "Create src/utils.py and store functions there."
   ]
  },
  {
   "cell_type": "code",
   "execution_count": 3,
   "id": "ea122ef8",
   "metadata": {},
   "outputs": [],
   "source": [
    "# TODO: Move actual reusable functions here\n",
    "def calculate_metrics(df):\n",
    "    return df.describe()\n",
    "\n",
    "# A reusable function to be moved to 'src/utils.py'\n",
    "# In a real project, this would contain functions for data preprocessing,\n",
    "# feature engineering, or model evaluation.\n",
    "def preprocess_data(data):\n",
    "    \"\"\"\n",
    "    Placeholder function for data preprocessing.\n",
    "    In a real scenario, this would clean and transform the input data.\n",
    "    \"\"\"\n",
    "    # For this mock example, we'll just return the data as is.\n",
    "    return data\n",
    "\n",
    "def mock_predict(features):\n",
    "    \"\"\"\n",
    "    A mock prediction function that mirrors the behavior of our model.\n",
    "    This will be the function called by the Flask API.\n",
    "    \"\"\"\n",
    "    # Assumes 'features' is a list or array of numerical values.\n",
    "    # The sum serves as a simple placeholder prediction.\n",
    "    return sum(features)\n",
    "\n",
    "print(\"Reusable functions defined.\")\n"
   ]
  },
  {
   "cell_type": "markdown",
   "id": "42cdb383",
   "metadata": {},
   "source": [
    "## 4. Folder Structure Reminder\n",
    "\n",
    "Ensure your project uses a clean folder structure:\n",
    "```\n",
    "project/\n",
    "  data/\n",
    "  notebooks/\n",
    "  src/\n",
    "  reports/\n",
    "  model/\n",
    "  README.md\n",
    "```\n",
    "For API/Dashboard: minimal example:\n",
    "```\n",
    "project/\n",
    "    app.py\n",
    "    model.pkl\n",
    "    requirements.txt\n",
    "    README.md\n",
    "```"
   ]
  },
  {
   "cell_type": "markdown",
   "id": "356a107b",
   "metadata": {},
   "source": [
    "## 5. Pickle / Save Final Model\n",
    "\n",
    "### TODO: Replace this with your trained model"
   ]
  },
  {
   "cell_type": "code",
   "execution_count": 2,
   "id": "45ace4a6",
   "metadata": {},
   "outputs": [
    {
     "name": "stdout",
     "output_type": "stream",
     "text": [
      "Model saved to model/model.pkl\n",
      "Loaded model test prediction for [0.1, 0.2, 0.3]: 1.2\n"
     ]
    }
   ],
   "source": [
    "import pickle\n",
    "from pathlib import Path\n",
    "\n",
    "# Creating the 'model' directory if it doesn't exist\n",
    "model_dir = Path('model')\n",
    "model_dir.mkdir(parents=True, exist_ok=True)\n",
    "\n",
    "# A simple mock model to save. In a real project, this would be a scikit-learn\n",
    "# or a similar trained model object. Right now using a simple model to strengthen understanding\n",
    "class MockModel:\n",
    "    def predict(self, features):\n",
    "        return sum(features) * 2\n",
    "\n",
    "# Instantiate and save the mock model\n",
    "model = MockModel()\n",
    "with open(model_dir / 'model.pkl', 'wb') as f:\n",
    "    pickle.dump(model, f)\n",
    "\n",
    "print(\"Model saved to model/model.pkl\")\n",
    "\n",
    "# Test loading the model to ensure it was saved correctly\n",
    "with open(model_dir / 'model.pkl', 'rb') as f:\n",
    "    loaded_model = pickle.load(f)\n",
    "\n",
    "# Example prediction to verify the loaded model works\n",
    "test_features = [[0.1, 0.2, 0.3]]\n",
    "prediction = loaded_model.predict(test_features[0])\n",
    "print(f\"Loaded model test prediction for {test_features[0]}: {prediction}\")\n"
   ]
  },
  {
   "cell_type": "markdown",
   "id": "6db8a4ff",
   "metadata": {},
   "source": [
    "## 6. Flask API Starter\n",
    "\n",
    "### TODO: Implement Flask endpoints for /predict and /plot"
   ]
  },
  {
   "cell_type": "code",
   "execution_count": 3,
   "id": "032a37cb",
   "metadata": {},
   "outputs": [
    {
     "name": "stdout",
     "output_type": "stream",
     "text": [
      " * Serving Flask app '__main__'\n",
      " * Debug mode: off\n"
     ]
    },
    {
     "name": "stderr",
     "output_type": "stream",
     "text": [
      "\u001b[31m\u001b[1mWARNING: This is a development server. Do not use it in a production deployment. Use a production WSGI server instead.\u001b[0m\n",
      " * Running on http://127.0.0.1:5000\n",
      "\u001b[33mPress CTRL+C to quit\u001b[0m\n",
      "127.0.0.1 - - [28/Aug/2025 22:27:21] \"POST /predict HTTP/1.1\" 200 -\n",
      "127.0.0.1 - - [28/Aug/2025 22:27:21] \"GET /predict/5.0 HTTP/1.1\" 200 -\n",
      "127.0.0.1 - - [28/Aug/2025 22:27:21] \"GET /predict/1.5/3.0 HTTP/1.1\" 200 -\n",
      "127.0.0.1 - - [28/Aug/2025 22:27:21] \"GET /plot HTTP/1.1\" 200 -\n"
     ]
    }
   ],
   "source": [
    "from flask import Flask, request, jsonify\n",
    "import threading\n",
    "import matplotlib.pyplot as plt\n",
    "import io\n",
    "import base64\n",
    "\n",
    "app = Flask(__name__)\n",
    "\n",
    "@app.route('/predict', methods=['POST'])\n",
    "def predict():\n",
    "    # TODO: Replace placeholder logic with actual model prediction\n",
    "    data = request.get_json()\n",
    "    features = data.get('features', None)\n",
    "    if features is None:\n",
    "        return jsonify({'error': 'No features provided'}), 400\n",
    "    pred = sum(features)  # placeholder\n",
    "    return jsonify({'prediction': pred})\n",
    "\n",
    "@app.route('/predict/<float:input1>', methods=['GET'])\n",
    "def predict_one(input1):\n",
    "    pred = input1 * 2  # placeholder\n",
    "    return jsonify({'prediction': pred})\n",
    "\n",
    "@app.route('/predict/<float:input1>/<float:input2>', methods=['GET'])\n",
    "def predict_two(input1, input2):\n",
    "    pred = input1 + input2  # placeholder\n",
    "    return jsonify({'prediction': pred})\n",
    "\n",
    "@app.route('/plot')\n",
    "def plot():\n",
    "    # TODO: Replace with meaningful chart or image\n",
    "    fig, ax = plt.subplots()\n",
    "    ax.plot([0, 1, 2], [0, 1, 4])\n",
    "    buf = io.BytesIO()\n",
    "    fig.savefig(buf, format='png')\n",
    "    buf.seek(0)\n",
    "    img_bytes = base64.b64encode(buf.read()).decode('utf-8')\n",
    "    return f'<img src=\"data:image/png;base64,{img_bytes}\"/>'\n",
    "\n",
    "def run_flask():\n",
    "    app.run(port=5000)\n",
    "\n",
    "# Launch Flask in a separate thread\n",
    "threading.Thread(target=run_flask).start()"
   ]
  },
  {
   "cell_type": "markdown",
   "id": "541470d6",
   "metadata": {},
   "source": [
    "## 7. Testing the Flask API from Notebook\n",
    "\n",
    "### TODO: Modify examples with your actual features"
   ]
  },
  {
   "cell_type": "code",
   "execution_count": 4,
   "id": "8748e3a6",
   "metadata": {},
   "outputs": [
    {
     "name": "stdout",
     "output_type": "stream",
     "text": [
      "Testing Flask API endpoints...\n",
      "POST /predict response: {'prediction': 7.0}\n",
      "--------------------\n",
      "GET /predict/<input1> response: {'prediction': 10.0}\n",
      "--------------------\n",
      "GET /predict/<input1>/<input2> response: {'prediction': 4.5}\n",
      "--------------------\n",
      "GET /plot response:\n"
     ]
    },
    {
     "data": {
      "text/html": [
       "<img src=\"data:image/png;base64,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\"/>"
      ],
      "text/plain": [
       "<IPython.core.display.HTML object>"
      ]
     },
     "metadata": {},
     "output_type": "display_data"
    },
    {
     "data": {
      "image/png": "[encoded data removed]",
      "text/plain": [
       "<Figure size 640x480 with 1 Axes>"
      ]
     },
     "metadata": {},
     "output_type": "display_data"
    }
   ],
   "source": [
    "import requests\n",
    "from IPython.display import display, HTML\n",
    "import time\n",
    "\n",
    "# Give the Flask app a moment to start up\n",
    "time.sleep(3)\n",
    "print(\"Testing Flask API endpoints...\")\n",
    "\n",
    "# POST /predict\n",
    "post_payload = {'features': [1.0, 2.5, 3.5]}\n",
    "try:\n",
    "    response = requests.post('http://127.0.0.1:5000/predict', json=post_payload)\n",
    "    response.raise_for_status() # Raise an HTTPError for bad responses (4xx or 5xx)\n",
    "    print(\"POST /predict response:\", response.json())\n",
    "except requests.exceptions.RequestException as e:\n",
    "    print(f\"Error calling POST /predict: {e}\")\n",
    "\n",
    "print(\"-\" * 20)\n",
    "\n",
    "# GET /predict/<input1>\n",
    "input1_val = 5.0\n",
    "try:\n",
    "    response2 = requests.get(f'http://127.0.0.1:5000/predict/{input1_val}')\n",
    "    response2.raise_for_status()\n",
    "    print(\"GET /predict/<input1> response:\", response2.json())\n",
    "except requests.exceptions.RequestException as e:\n",
    "    print(f\"Error calling GET /predict/<input1>: {e}\")\n",
    "    \n",
    "print(\"-\" * 20)\n",
    "\n",
    "# GET /predict/<input1>/<input2>\n",
    "input1_val, input2_val = 1.5, 3.0\n",
    "try:\n",
    "    response3 = requests.get(f'http://127.0.0.1:5000/predict/{input1_val}/{input2_val}')\n",
    "    response3.raise_for_status()\n",
    "    print(\"GET /predict/<input1>/<input2> response:\", response3.json())\n",
    "except requests.exceptions.RequestException as e:\n",
    "    print(f\"Error calling GET /predict/<input1>/<input2>: {e}\")\n",
    "    \n",
    "print(\"-\" * 20)\n",
    "\n",
    "# GET /plot\n",
    "try:\n",
    "    response_plot = requests.get('http://127.0.0.1:5000/plot')\n",
    "    response_plot.raise_for_status()\n",
    "    print(\"GET /plot response:\")\n",
    "    display(HTML(response_plot.text))\n",
    "except requests.exceptions.RequestException as e:\n",
    "    print(f\"Error calling GET /plot: {e}\")\n",
    "\n"
   ]
  },
  {
   "cell_type": "markdown",
   "id": "89e21180",
   "metadata": {},
   "source": [
    "## 8. Optional Streamlit / Dash Dashboard\n",
    "\n",
    "### TODO: Add dashboard in a separate file (`app_streamlit.py` or `app_dash.py`)"
   ]
  },
  {
   "cell_type": "markdown",
   "id": "9ef90447",
   "metadata": {},
   "source": [
    "## 9. Handoff Best Practices\n",
    "\n",
    "- Ensure README.md is complete and clear\n",
    "- Provide `requirements.txt` for reproducibility\n",
    "- Ensure pickled model and scripts are in correct folders\n",
    "- Verify another user can run the project end-to-end on a fresh environment"
   ]
  }
 ],
 "metadata": {
  "kernelspec": {
   "display_name": "Python [conda env:nyu-mfe-bootcamp]",
   "language": "python",
   "name": "conda-env-nyu-mfe-bootcamp-py"
  },
  "language_info": {
   "codemirror_mode": {
    "name": "ipython",
    "version": 3
   },
   "file_extension": ".py",
   "mimetype": "text/x-python",
   "name": "python",
   "nbconvert_exporter": "python",
   "pygments_lexer": "ipython3",
   "version": "3.13.5"
  }
 },
 "nbformat": 4,
 "nbformat_minor": 5
}
