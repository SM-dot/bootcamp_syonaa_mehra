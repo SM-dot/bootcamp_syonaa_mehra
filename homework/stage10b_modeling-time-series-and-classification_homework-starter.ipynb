{
 "cells": [
  {
   "cell_type": "markdown",
   "id": "ab4fb9d5",
   "metadata": {},
   "source": [
    "# Homework Starter — Stage 10b: Time Series & Classification\n",
    "Fill in the TODOs. Use your own dataset or adapt the synthetic generator below."
   ]
  },
  {
   "cell_type": "code",
   "execution_count": 1,
   "id": "e5b9984f",
   "metadata": {},
   "outputs": [],
   "source": [
    "# Imports\n",
    "import numpy as np, pandas as pd\n",
    "import matplotlib.pyplot as plt\n",
    "import seaborn as sns\n",
    "from sklearn.pipeline import Pipeline, make_pipeline\n",
    "from sklearn.preprocessing import StandardScaler\n",
    "from sklearn.linear_model import LinearRegression, LogisticRegression\n",
    "from sklearn.tree import DecisionTreeClassifier\n",
    "from sklearn.metrics import mean_absolute_error, mean_squared_error, classification_report, confusion_matrix\n",
    "from sklearn.model_selection import train_test_split, TimeSeriesSplit\n",
    "np.random.seed(7); sns.set(); plt.rcParams['figure.figsize']=(9,4)"
   ]
  },
  {
   "cell_type": "markdown",
   "id": "102c349d",
   "metadata": {},
   "source": [
    "## Option A: Use Your Own Data (Recommended)\n",
    "Load your data here (ensure a DateTime index for time series)."
   ]
  },
  {
   "cell_type": "code",
   "execution_count": 2,
   "id": "7612f72f",
   "metadata": {},
   "outputs": [
    {
     "data": {
      "text/html": [
       "<div>\n",
       "<style scoped>\n",
       "    .dataframe tbody tr th:only-of-type {\n",
       "        vertical-align: middle;\n",
       "    }\n",
       "\n",
       "    .dataframe tbody tr th {\n",
       "        vertical-align: top;\n",
       "    }\n",
       "\n",
       "    .dataframe thead th {\n",
       "        text-align: right;\n",
       "    }\n",
       "</style>\n",
       "<table border=\"1\" class=\"dataframe\">\n",
       "  <thead>\n",
       "    <tr style=\"text-align: right;\">\n",
       "      <th></th>\n",
       "      <th>price</th>\n",
       "      <th>ret</th>\n",
       "      <th>log_ret</th>\n",
       "    </tr>\n",
       "  </thead>\n",
       "  <tbody>\n",
       "    <tr>\n",
       "      <th>2021-01-01</th>\n",
       "      <td>101.735412</td>\n",
       "      <td>0.000000</td>\n",
       "      <td>0.000000</td>\n",
       "    </tr>\n",
       "    <tr>\n",
       "      <th>2021-01-04</th>\n",
       "      <td>101.292875</td>\n",
       "      <td>-0.004350</td>\n",
       "      <td>-0.004359</td>\n",
       "    </tr>\n",
       "    <tr>\n",
       "      <th>2021-01-05</th>\n",
       "      <td>101.356527</td>\n",
       "      <td>0.000628</td>\n",
       "      <td>0.000628</td>\n",
       "    </tr>\n",
       "    <tr>\n",
       "      <th>2021-01-06</th>\n",
       "      <td>101.800950</td>\n",
       "      <td>0.004385</td>\n",
       "      <td>0.004375</td>\n",
       "    </tr>\n",
       "    <tr>\n",
       "      <th>2021-01-07</th>\n",
       "      <td>101.031283</td>\n",
       "      <td>-0.007561</td>\n",
       "      <td>-0.007589</td>\n",
       "    </tr>\n",
       "  </tbody>\n",
       "</table>\n",
       "</div>"
      ],
      "text/plain": [
       "                 price       ret   log_ret\n",
       "2021-01-01  101.735412  0.000000  0.000000\n",
       "2021-01-04  101.292875 -0.004350 -0.004359\n",
       "2021-01-05  101.356527  0.000628  0.000628\n",
       "2021-01-06  101.800950  0.004385  0.004375\n",
       "2021-01-07  101.031283 -0.007561 -0.007589"
      ]
     },
     "execution_count": 2,
     "metadata": {},
     "output_type": "execute_result"
    }
   ],
   "source": [
    "# TODO: load your data\n",
    "# df = pd.read_csv('path/to.csv', parse_dates=['Date'], index_col='Date')\n",
    "\n",
    "# My Synthetic series with regimes & jumps\n",
    "n=500\n",
    "dates=pd.bdate_range('2021-01-01', periods=n)\n",
    "mu = np.where(np.arange(n)<n//2, 0.0003, -0.0001)\n",
    "sigma = np.where(np.arange(n)<n//2, 0.01, 0.015)\n",
    "eps = np.random.normal(mu, sigma)\n",
    "jumps = np.zeros(n); jump_days = np.random.choice(np.arange(20,n-20), size=5, replace=False)\n",
    "jumps[jump_days] = np.random.normal(0,0.05,size=len(jump_days))\n",
    "rets = eps + jumps\n",
    "price = 100*np.exp(np.cumsum(rets))\n",
    "df = pd.DataFrame({'price':price}, index=dates)\n",
    "df['ret'] = df['price'].pct_change().fillna(0.0)\n",
    "df['log_ret'] = np.log1p(df['ret'])\n",
    "df.head()"
   ]
  },
  {
   "cell_type": "markdown",
   "id": "eb761972",
   "metadata": {},
   "source": [
    "## Option B: Synthetic Generator (Use if you don't have data ready)"
   ]
  },
  {
   "cell_type": "code",
   "execution_count": 3,
   "id": "cfc7d6f5",
   "metadata": {},
   "outputs": [
    {
     "data": {
      "text/html": [
       "<div>\n",
       "<style scoped>\n",
       "    .dataframe tbody tr th:only-of-type {\n",
       "        vertical-align: middle;\n",
       "    }\n",
       "\n",
       "    .dataframe tbody tr th {\n",
       "        vertical-align: top;\n",
       "    }\n",
       "\n",
       "    .dataframe thead th {\n",
       "        text-align: right;\n",
       "    }\n",
       "</style>\n",
       "<table border=\"1\" class=\"dataframe\">\n",
       "  <thead>\n",
       "    <tr style=\"text-align: right;\">\n",
       "      <th></th>\n",
       "      <th>price</th>\n",
       "      <th>ret</th>\n",
       "      <th>log_ret</th>\n",
       "    </tr>\n",
       "  </thead>\n",
       "  <tbody>\n",
       "    <tr>\n",
       "      <th>2021-01-01</th>\n",
       "      <td>102.510883</td>\n",
       "      <td>0.000000</td>\n",
       "      <td>0.000000</td>\n",
       "    </tr>\n",
       "    <tr>\n",
       "      <th>2021-01-04</th>\n",
       "      <td>103.423040</td>\n",
       "      <td>0.008898</td>\n",
       "      <td>0.008859</td>\n",
       "    </tr>\n",
       "    <tr>\n",
       "      <th>2021-01-05</th>\n",
       "      <td>104.127180</td>\n",
       "      <td>0.006808</td>\n",
       "      <td>0.006785</td>\n",
       "    </tr>\n",
       "    <tr>\n",
       "      <th>2021-01-06</th>\n",
       "      <td>104.518422</td>\n",
       "      <td>0.003757</td>\n",
       "      <td>0.003750</td>\n",
       "    </tr>\n",
       "    <tr>\n",
       "      <th>2021-01-07</th>\n",
       "      <td>105.018246</td>\n",
       "      <td>0.004782</td>\n",
       "      <td>0.004771</td>\n",
       "    </tr>\n",
       "  </tbody>\n",
       "</table>\n",
       "</div>"
      ],
      "text/plain": [
       "                 price       ret   log_ret\n",
       "2021-01-01  102.510883  0.000000  0.000000\n",
       "2021-01-04  103.423040  0.008898  0.008859\n",
       "2021-01-05  104.127180  0.006808  0.006785\n",
       "2021-01-06  104.518422  0.003757  0.003750\n",
       "2021-01-07  105.018246  0.004782  0.004771"
      ]
     },
     "execution_count": 3,
     "metadata": {},
     "output_type": "execute_result"
    }
   ],
   "source": [
    "# Synthetic series with regimes & jumps\n",
    "n=500\n",
    "dates=pd.bdate_range('2021-01-01', periods=n)\n",
    "mu = np.where(np.arange(n)<n//2, 0.0003, -0.0001)\n",
    "sigma = np.where(np.arange(n)<n//2, 0.01, 0.015)\n",
    "eps = np.random.normal(mu, sigma)\n",
    "jumps = np.zeros(n); jump_days = np.random.choice(np.arange(20,n-20), size=5, replace=False)\n",
    "jumps[jump_days] = np.random.normal(0,0.05,size=len(jump_days))\n",
    "rets = eps + jumps\n",
    "price = 100*np.exp(np.cumsum(rets))\n",
    "df = pd.DataFrame({'price':price}, index=dates)\n",
    "df['ret'] = df['price'].pct_change().fillna(0.0)\n",
    "df['log_ret'] = np.log1p(df['ret'])\n",
    "df.head()"
   ]
  },
  {
   "cell_type": "markdown",
   "id": "dee21cc4",
   "metadata": {},
   "source": [
    "## Feature Engineering"
   ]
  },
  {
   "cell_type": "code",
   "execution_count": 4,
   "id": "53a367c4",
   "metadata": {},
   "outputs": [
    {
     "data": {
      "text/html": [
       "<div>\n",
       "<style scoped>\n",
       "    .dataframe tbody tr th:only-of-type {\n",
       "        vertical-align: middle;\n",
       "    }\n",
       "\n",
       "    .dataframe tbody tr th {\n",
       "        vertical-align: top;\n",
       "    }\n",
       "\n",
       "    .dataframe thead th {\n",
       "        text-align: right;\n",
       "    }\n",
       "</style>\n",
       "<table border=\"1\" class=\"dataframe\">\n",
       "  <thead>\n",
       "    <tr style=\"text-align: right;\">\n",
       "      <th></th>\n",
       "      <th>price</th>\n",
       "      <th>ret</th>\n",
       "      <th>log_ret</th>\n",
       "      <th>lag_1</th>\n",
       "      <th>roll_mean_5</th>\n",
       "      <th>roll_vol_20</th>\n",
       "      <th>y_next_ret</th>\n",
       "      <th>y_up</th>\n",
       "    </tr>\n",
       "  </thead>\n",
       "  <tbody>\n",
       "    <tr>\n",
       "      <th>2021-01-29</th>\n",
       "      <td>101.546548</td>\n",
       "      <td>-0.003311</td>\n",
       "      <td>-0.003316</td>\n",
       "      <td>-0.006144</td>\n",
       "      <td>-0.007814</td>\n",
       "      <td>0.007897</td>\n",
       "      <td>-0.008562</td>\n",
       "      <td>0</td>\n",
       "    </tr>\n",
       "    <tr>\n",
       "      <th>2021-02-01</th>\n",
       "      <td>100.677097</td>\n",
       "      <td>-0.008562</td>\n",
       "      <td>-0.008599</td>\n",
       "      <td>-0.003311</td>\n",
       "      <td>-0.006124</td>\n",
       "      <td>0.007925</td>\n",
       "      <td>0.003335</td>\n",
       "      <td>1</td>\n",
       "    </tr>\n",
       "    <tr>\n",
       "      <th>2021-02-02</th>\n",
       "      <td>101.012863</td>\n",
       "      <td>0.003335</td>\n",
       "      <td>0.003330</td>\n",
       "      <td>-0.008562</td>\n",
       "      <td>-0.005629</td>\n",
       "      <td>0.007803</td>\n",
       "      <td>0.006048</td>\n",
       "      <td>1</td>\n",
       "    </tr>\n",
       "    <tr>\n",
       "      <th>2021-02-03</th>\n",
       "      <td>101.623771</td>\n",
       "      <td>0.006048</td>\n",
       "      <td>0.006030</td>\n",
       "      <td>0.003335</td>\n",
       "      <td>-0.004313</td>\n",
       "      <td>0.007650</td>\n",
       "      <td>0.018667</td>\n",
       "      <td>1</td>\n",
       "    </tr>\n",
       "    <tr>\n",
       "      <th>2021-02-04</th>\n",
       "      <td>103.520758</td>\n",
       "      <td>0.018667</td>\n",
       "      <td>0.018495</td>\n",
       "      <td>0.006048</td>\n",
       "      <td>-0.001727</td>\n",
       "      <td>0.007749</td>\n",
       "      <td>0.007237</td>\n",
       "      <td>1</td>\n",
       "    </tr>\n",
       "  </tbody>\n",
       "</table>\n",
       "</div>"
      ],
      "text/plain": [
       "                 price       ret   log_ret     lag_1  roll_mean_5  \\\n",
       "2021-01-29  101.546548 -0.003311 -0.003316 -0.006144    -0.007814   \n",
       "2021-02-01  100.677097 -0.008562 -0.008599 -0.003311    -0.006124   \n",
       "2021-02-02  101.012863  0.003335  0.003330 -0.008562    -0.005629   \n",
       "2021-02-03  101.623771  0.006048  0.006030  0.003335    -0.004313   \n",
       "2021-02-04  103.520758  0.018667  0.018495  0.006048    -0.001727   \n",
       "\n",
       "            roll_vol_20  y_next_ret  y_up  \n",
       "2021-01-29     0.007897   -0.008562     0  \n",
       "2021-02-01     0.007925    0.003335     1  \n",
       "2021-02-02     0.007803    0.006048     1  \n",
       "2021-02-03     0.007650    0.018667     1  \n",
       "2021-02-04     0.007749    0.007237     1  "
      ]
     },
     "execution_count": 4,
     "metadata": {},
     "output_type": "execute_result"
    }
   ],
   "source": [
    "# TODO: create at least two features\n",
    "df['lag_1'] = df['ret'].shift(1)\n",
    "df['roll_mean_5'] = df['ret'].rolling(5).mean().shift(1)\n",
    "# Add your own:\n",
    "df['roll_vol_20'] = df['ret'].rolling(20).std().shift(1)\n",
    "df['y_next_ret'] = df['ret'].shift(-1)\n",
    "df['y_up'] = (df['y_next_ret']>0).astype(int)\n",
    "df_feat = df.dropna().copy()\n",
    "df_feat.head()"
   ]
  },
  {
   "cell_type": "markdown",
   "id": "40311221-ae1a-40b8-bd0d-9719b156c29c",
   "metadata": {},
   "source": [
    "## Features added explanation: \n",
    "roll_vol_20 (Rolling Volatility over 20 days): This feature is like a \"how-bumpy-the-road-has-been\" meter. It looks at the past 20 days of returns and calculates how much the prices have been jumping up and down. I added it because in finance, past volatility is a good clue for future volatility. A period of high volatility often means more high-volatility days are coming. It helps the model understand if the market is currently calm or wild.\n",
    "\n",
    "y_up (Price went \"Up\"): This feature is a simple \"yes\" or \"no\" answer to the question: \"Did the price go up on the next day?\" I added this because the homework asked for both a forecasting model and a classification model. The forecasting model guesses the exact return number, while the classification model just guesses if the price will go up or down. y_up is the perfect target variable for that \"up or down\" classification task."
   ]
  },
  {
   "cell_type": "markdown",
   "id": "129cc521",
   "metadata": {},
   "source": [
    "## Split"
   ]
  },
  {
   "cell_type": "code",
   "execution_count": 5,
   "id": "09740757",
   "metadata": {},
   "outputs": [],
   "source": [
    "# Time-aware split\n",
    "cut=int(len(df_feat)*0.8)\n",
    "train, test = df_feat.iloc[:cut], df_feat.iloc[cut:]\n",
    "features=['lag_1','roll_mean_5']  # extend as you add features\n",
    "X_tr, X_te = train[features], test[features]\n",
    "y_tr_reg, y_te_reg = train['y_next_ret'], test['y_next_ret']\n",
    "y_tr_clf, y_te_clf = train['y_up'], test['y_up']"
   ]
  },
  {
   "cell_type": "markdown",
   "id": "edc2afd6",
   "metadata": {},
   "source": [
    "## Pipeline + Model (Choose one track below)"
   ]
  },
  {
   "cell_type": "code",
   "execution_count": 6,
   "id": "3d189a92",
   "metadata": {},
   "outputs": [
    {
     "name": "stdout",
     "output_type": "stream",
     "text": [
      "RMSE: 0.014348566010769528\n"
     ]
    }
   ],
   "source": [
    "# Track 1: Forecasting returns: code fixed, prev code had depriciated function from sklearn \n",
    "reg = Pipeline([('scaler', StandardScaler()), ('linreg', LinearRegression())])\n",
    "reg.fit(X_tr, y_tr_reg)\n",
    "pred = reg.predict(X_te)\n",
    "mse = mean_squared_error(y_te_reg, pred)\n",
    "rmse = np.sqrt(mse)\n",
    "print('RMSE:', rmse)"
   ]
  },
  {
   "cell_type": "code",
   "execution_count": 7,
   "id": "de07cff4",
   "metadata": {},
   "outputs": [
    {
     "name": "stdout",
     "output_type": "stream",
     "text": [
      "              precision    recall  f1-score   support\n",
      "\n",
      "           0       0.60      0.49      0.54        51\n",
      "           1       0.52      0.62      0.57        45\n",
      "\n",
      "    accuracy                           0.55        96\n",
      "   macro avg       0.56      0.56      0.55        96\n",
      "weighted avg       0.56      0.55      0.55        96\n",
      "\n"
     ]
    },
    {
     "data": {
      "image/png": "[encoded data removed]",
      "text/plain": [
       "<Figure size 900x400 with 2 Axes>"
      ]
     },
     "metadata": {},
     "output_type": "display_data"
    }
   ],
   "source": [
    "# Track 2: Classification (up/down)\n",
    "clf = Pipeline([('scaler', StandardScaler()), ('logit', LogisticRegression(max_iter=1000))])\n",
    "clf.fit(X_tr, y_tr_clf)\n",
    "predc = clf.predict(X_te)\n",
    "print(classification_report(y_te_clf, predc))\n",
    "cm = confusion_matrix(y_te_clf, predc)\n",
    "sns.heatmap(cm, annot=True, fmt='d'); plt.title('Confusion Matrix'); plt.show()"
   ]
  },
  {
   "cell_type": "markdown",
   "id": "94095f68",
   "metadata": {},
   "source": [
    "## Interpretation (Markdown)\n",
    "- What worked?\n",
    "- Where might assumptions fail?\n",
    "- How would you extend features or model?"
   ]
  },
  {
   "cell_type": "markdown",
   "id": "06cf73ee-367c-4dea-8742-530a265f3cee",
   "metadata": {},
   "source": [
    "What worked?\n",
    "The synthetic data generator successfully created a time series with different volatility regimes and random jumps, simulating real-world financial data. The feature engineering part worked well, creating features that capture the historical behavior of the series. The pipelines for both regression and classification were implemented correctly and provided results for evaluation.\n",
    "\n",
    "Where might assumptions fail?\n",
    "The biggest assumption failure would be with the independence of the residuals. Since we are working with a time series, the values at one point in time are very likely to be correlated with values at a previous point in time. A simple linear or logistic regression model might not fully capture this time-dependent structure, and a more sophisticated model like an ARIMA or GARCH model might be needed.\n",
    "\n",
    "How would you extend features or model?\n",
    "To extend the features, I would add more rolling window statistics, such as a rolling skew or kurtosis, to capture the shape of the return distribution over time. I would also add more lagged features to capture dependencies over longer periods.\n",
    "To extend the model, I would consider using more advanced time series models, such as ARMA or GARCH, or machine learning models that are better suited for time series data, like a Recurrent Neural Network (RNN) or a Long Short-Term Memory (LSTM) model. I would also use a more robust cross-validation strategy, such as TimeSeriesSplit, to get a more reliable estimate of the model's performance."
   ]
  },
  {
   "cell_type": "markdown",
   "id": "e4201445",
   "metadata": {},
   "source": [
    "### Save Notebook\n",
    "Remember to save as `notebooks/modeling_<team>.ipynb`."
   ]
  }
 ],
 "metadata": {
  "kernelspec": {
   "display_name": "Python [conda env:nyu-mfe-bootcamp]",
   "language": "python",
   "name": "conda-env-nyu-mfe-bootcamp-py"
  },
  "language_info": {
   "codemirror_mode": {
    "name": "ipython",
    "version": 3
   },
   "file_extension": ".py",
   "mimetype": "text/x-python",
   "name": "python",
   "nbconvert_exporter": "python",
   "pygments_lexer": "ipython3",
   "version": "3.13.5"
  }
 },
 "nbformat": 4,
 "nbformat_minor": 5
}
