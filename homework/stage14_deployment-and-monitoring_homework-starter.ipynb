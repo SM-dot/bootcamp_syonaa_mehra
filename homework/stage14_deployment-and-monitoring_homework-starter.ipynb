{
 "cells": [
  {
   "cell_type": "markdown",
   "id": "a542f09f",
   "metadata": {},
   "source": [
    "# Homework Starter — Stage 14: Deployment & Monitoring\n",
    "\n",
    "Use this template to draft your reflection and (optionally) sketch a dashboard."
   ]
  },
  {
   "cell_type": "markdown",
   "id": "05e398f0",
   "metadata": {},
   "source": [
    "## 1) Reflection (200–300 words)\n",
    "- Risks if deployed:\n",
    "- Monitoring metrics across layers (Data/Model/System/Business):\n",
    "- Ownership & handoffs:\n",
    "\n",
    "> Tip: Be specific (e.g., 'p95 latency > 250ms triggers on-call notification')."
   ]
  },
  {
   "cell_type": "markdown",
   "id": "11aad4a6-f7ad-4b27-83e8-667773e1b0c2",
   "metadata": {},
   "source": [
    "The deployment of our model, while offering significant business value, presents several key risks that must be managed. I believe the most significant risks are data and concept drift. Data drift occurs if the characteristics of the input data change over time, which can lead to a gradual decay in the model's performance. For instance, if our model predicts customer churn based on past behavior, a shift in market conditions or new product features could alter customer behavior in a way the model hasn't seen before. Concept drift is even more insidious, as it happens when the relationship between our input features and the target variable itself changes. If a once-strong predictor no longer holds true, our model's decisions could become unreliable.\n",
    "\n",
    "To proactively address these issues, I would establish a robust monitoring framework across four distinct layers: data, model, system, and business. At the data layer, I would monitor metrics like freshness_minutes, null_rate, and schema_hash to ensure the input data stream remains consistent and healthy. For the model itself, I'd track rolling_mae or auc as well as calibration_error to catch any performance degradation. On the system side, I would set up alerts for p95_latency_ms > 250ms and error_rate to ensure the API is responsive and stable. Finally, on the business front, I'd monitor key performance indicators such as the approval_rate and conversion_rate to confirm that the model's outputs are translating into the expected business impact.\n",
    "\n",
    "Clear ownership and handoff processes are also critical for success. I would propose that the data science team is primarily responsible for the model's performance and retraining schedule, while the engineering team manages the deployment pipeline, system health, and infrastructure. Business stakeholders would own the interpretation of the business-level metrics and would be responsible for providing feedback on the model's real-world impact. This division of labor ensures that each team focuses on its core expertise, with a documented runbook for cross-team collaboration and issue resolution."
   ]
  },
  {
   "cell_type": "markdown",
   "id": "92663ef8",
   "metadata": {},
   "source": [
    "## 2) Optional: Dashboard Sketch\n",
    "Describe panels and key charts. You can also attach an image file in your repo (png/pdf)."
   ]
  },
  {
   "cell_type": "code",
   "execution_count": null,
   "id": "1f56fc33-dbd4-4b09-8ab6-668cce237a6e",
   "metadata": {},
   "outputs": [],
   "source": []
  },
  {
   "cell_type": "code",
   "execution_count": null,
   "id": "1de208f7",
   "metadata": {},
   "outputs": [],
   "source": [
    "# Optional helper: simple structure to list metrics\n",
    "monitoring = {\n",
    "    'data': ['freshness_minutes', 'null_rate', 'schema_hash'],\n",
    "    'model': ['rolling_mae_or_auc', 'calibration_error'],\n",
    "    'system': ['p95_latency_ms', 'error_rate'],\n",
    "    'business': ['approval_rate', 'bad_rate']\n",
    "}\n",
    "monitoring"
   ]
  }
 ],
 "metadata": {
  "kernelspec": {
   "display_name": "Python [conda env:nyu-mfe-bootcamp]",
   "language": "python",
   "name": "conda-env-nyu-mfe-bootcamp-py"
  },
  "language_info": {
   "codemirror_mode": {
    "name": "ipython",
    "version": 3
   },
   "file_extension": ".py",
   "mimetype": "text/x-python",
   "name": "python",
   "nbconvert_exporter": "python",
   "pygments_lexer": "ipython3",
   "version": "3.13.5"
  }
 },
 "nbformat": 4,
 "nbformat_minor": 5
}
