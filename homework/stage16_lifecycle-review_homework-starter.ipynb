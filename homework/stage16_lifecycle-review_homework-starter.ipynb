{
 "cells": [
  {
   "cell_type": "markdown",
   "metadata": {},
   "source": [
    "# Stage 16 Homework Starter\n",
    "\n",
    "This notebook is a starting point for polishing your final repo and lifecycle mapping."
   ]
  },
  {
   "cell_type": "markdown",
   "metadata": {},
   "source": [
    "## Checklist Template\n",
    " - Add checklist elements, as in the examples below, to make sure you cover everything you would like to accomplish\n",
    "- Update this checklist as you finalize your repo."
   ]
  },
  {
   "cell_type": "code",
   "execution_count": 2,
   "metadata": {},
   "outputs": [
    {
     "data": {
      "text/plain": [
       "{'repo_clean': False,\n",
       " 'repo_complete': False,\n",
       " 'readme_complete': False,\n",
       " 'lifecycle_map': False,\n",
       " 'summary_doc': False,\n",
       " 'framework_guide_table': False}"
      ]
     },
     "execution_count": 2,
     "metadata": {},
     "output_type": "execute_result"
    }
   ],
   "source": [
    "checklist = {\n",
    "    \"repo_clean\": False,\n",
    "    \"repo_complete\": False,\n",
    "    \"readme_complete\": False,\n",
    "    \"lifecycle_map\": False,\n",
    "    \"summary_doc\": False,\n",
    "    \"framework_guide_table\": False\n",
    "}\n",
    "checklist\n",
    "# fixed code, comma was missing in dict - syntax error "
   ]
  },
  {
   "cell_type": "markdown",
   "metadata": {},
   "source": [
    "## Reflection Prompts\n",
    "- What stage of the lifecycle was hardest for you, and why?\n",
    "- Which part of your repo is most reusable in a future project?\n",
    "- If a teammate had to pick up your repo tomorrow, what would help them most?"
   ]
  },
  {
   "cell_type": "markdown",
   "metadata": {},
   "source": [
    "What stage of the lifecycle was hardest for you, and why?\n",
    "\n",
    "For me, the most challenging stage of the machine learning lifecycle was deployment and monitoring. While I was able to build and train a functional model, transitioning it from a static notebook to a live, production-ready system was much more complex than I anticipated. I had to consider factors like API endpoints, error handling, and latency, which are not typically part of the core data science work. Setting up robust monitoring for things like data drift and model decay was also a new and difficult concept to grasp. It really highlighted the difference between creating a one-off analysis and building a durable, operational product.\n",
    "\n",
    "Which part of your repo is most reusable in a future project?\n",
    "\n",
    "I believe the data preprocessing and feature engineering functions located in my src/ directory are the most reusable parts of this project. These functions are designed to be modular and agnostic to the specific model being trained. For example, my clean_data() function can handle missing values and outliers for any tabular dataset. Similarly, the feature scaling and one-hot encoding functions can be easily applied to new projects with different datasets and target variables. This modular approach saves a significant amount of time and effort in future projects.\n",
    "\n",
    "If a teammate had to pick up your repo tomorrow, what would help them most?\n",
    "\n",
    "To help a teammate pick up the project quickly, a comprehensive README.md file would be the most valuable artifact. A good README should not only explain what the project does but also detail the folder structure, list all dependencies in requirements.txt, provide clear instructions on how to install the environment and run the main scripts, and offer a brief overview of the model's performance. Additionally, I would provide a quick-start guide in a separate markdown file that walks them through a single, successful end-to-end run of the pipeline."
   ]
  },
  {
   "cell_type": "code",
   "execution_count": null,
   "metadata": {},
   "outputs": [],
   "source": []
  }
 ],
 "metadata": {
  "kernelspec": {
   "display_name": "Python [conda env:nyu-mfe-bootcamp]",
   "language": "python",
   "name": "conda-env-nyu-mfe-bootcamp-py"
  },
  "language_info": {
   "codemirror_mode": {
    "name": "ipython",
    "version": 3
   },
   "file_extension": ".py",
   "mimetype": "text/x-python",
   "name": "python",
   "nbconvert_exporter": "python",
   "pygments_lexer": "ipython3",
   "version": "3.13.5"
  }
 },
 "nbformat": 4,
 "nbformat_minor": 4
}
