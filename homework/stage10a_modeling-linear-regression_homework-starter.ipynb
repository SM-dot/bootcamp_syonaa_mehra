{
 "cells": [
  {
   "cell_type": "markdown",
   "id": "be497878",
   "metadata": {},
   "source": [
    "# Homework Starter — Stage 10a: Linear Regression\n",
    "\n",
    "Use this as a scaffold if your project data isn’t ready. Replace the synthetic data section with your dataset when possible."
   ]
  },
  {
   "cell_type": "code",
   "execution_count": 1,
   "id": "61524248",
   "metadata": {},
   "outputs": [],
   "source": [
    "# Imports\n",
    "import numpy as np\n",
    "import pandas as pd\n",
    "import matplotlib.pyplot as plt\n",
    "import seaborn as sns\n",
    "from sklearn.linear_model import LinearRegression\n",
    "from sklearn.metrics import r2_score, mean_squared_error\n",
    "from sklearn.model_selection import train_test_split\n",
    "import scipy.stats as st\n",
    "\n",
    "sns.set()\n",
    "np.random.seed(7)"
   ]
  },
  {
   "cell_type": "markdown",
   "id": "c7f6d6af",
   "metadata": {},
   "source": [
    "## 1) Synthetic data (replace with your project data when ready)\n",
    "- Finance-flavored factors and asset excess return\n",
    "- Includes a quadratic effect to motivate specification checks"
   ]
  },
  {
   "cell_type": "code",
   "execution_count": 2,
   "id": "f3b92ab3",
   "metadata": {},
   "outputs": [
    {
     "data": {
      "text/html": [
       "<div>\n",
       "<style scoped>\n",
       "    .dataframe tbody tr th:only-of-type {\n",
       "        vertical-align: middle;\n",
       "    }\n",
       "\n",
       "    .dataframe tbody tr th {\n",
       "        vertical-align: top;\n",
       "    }\n",
       "\n",
       "    .dataframe thead th {\n",
       "        text-align: right;\n",
       "    }\n",
       "</style>\n",
       "<table border=\"1\" class=\"dataframe\">\n",
       "  <thead>\n",
       "    <tr style=\"text-align: right;\">\n",
       "      <th></th>\n",
       "      <th>date</th>\n",
       "      <th>mkt_excess</th>\n",
       "      <th>size</th>\n",
       "      <th>value</th>\n",
       "      <th>momentum</th>\n",
       "      <th>asset_excess</th>\n",
       "    </tr>\n",
       "  </thead>\n",
       "  <tbody>\n",
       "    <tr>\n",
       "      <th>0</th>\n",
       "      <td>2024-02-01</td>\n",
       "      <td>0.018596</td>\n",
       "      <td>-0.013467</td>\n",
       "      <td>-0.000540</td>\n",
       "      <td>0.000141</td>\n",
       "      <td>0.014832</td>\n",
       "    </tr>\n",
       "    <tr>\n",
       "      <th>1</th>\n",
       "      <td>2024-02-02</td>\n",
       "      <td>-0.005125</td>\n",
       "      <td>0.008120</td>\n",
       "      <td>0.007089</td>\n",
       "      <td>-0.006840</td>\n",
       "      <td>-0.008599</td>\n",
       "    </tr>\n",
       "    <tr>\n",
       "      <th>2</th>\n",
       "      <td>2024-02-05</td>\n",
       "      <td>0.000361</td>\n",
       "      <td>-0.011532</td>\n",
       "      <td>-0.012885</td>\n",
       "      <td>-0.011216</td>\n",
       "      <td>-0.009577</td>\n",
       "    </tr>\n",
       "    <tr>\n",
       "      <th>3</th>\n",
       "      <td>2024-02-06</td>\n",
       "      <td>0.004483</td>\n",
       "      <td>-0.010749</td>\n",
       "      <td>0.003905</td>\n",
       "      <td>-0.010685</td>\n",
       "      <td>0.000033</td>\n",
       "    </tr>\n",
       "    <tr>\n",
       "      <th>4</th>\n",
       "      <td>2024-02-07</td>\n",
       "      <td>-0.008678</td>\n",
       "      <td>-0.002893</td>\n",
       "      <td>0.001250</td>\n",
       "      <td>0.002779</td>\n",
       "      <td>-0.005750</td>\n",
       "    </tr>\n",
       "  </tbody>\n",
       "</table>\n",
       "</div>"
      ],
      "text/plain": [
       "        date  mkt_excess      size     value  momentum  asset_excess\n",
       "0 2024-02-01    0.018596 -0.013467 -0.000540  0.000141      0.014832\n",
       "1 2024-02-02   -0.005125  0.008120  0.007089 -0.006840     -0.008599\n",
       "2 2024-02-05    0.000361 -0.011532 -0.012885 -0.011216     -0.009577\n",
       "3 2024-02-06    0.004483 -0.010749  0.003905 -0.010685      0.000033\n",
       "4 2024-02-07   -0.008678 -0.002893  0.001250  0.002779     -0.005750"
      ]
     },
     "execution_count": 2,
     "metadata": {},
     "output_type": "execute_result"
    }
   ],
   "source": [
    "n = 200\n",
    "dates = pd.bdate_range(start=\"2024-02-01\", periods=n)\n",
    "mkt_excess = np.random.normal(0, 0.011, size=n)\n",
    "size = np.random.normal(0, 0.008, size=n)\n",
    "value = np.random.normal(0, 0.009, size=n)\n",
    "momentum = np.random.normal(0, 0.006, size=n)\n",
    "\n",
    "beta0, beta_mkt, beta_size, beta_value, beta_mom, beta_mom2 = 0.0001, 0.9, 0.25, -0.15, 0.35, 3.5\n",
    "noise_scale = 0.0035 + 0.5*np.abs(mkt_excess)\n",
    "eps = np.random.normal(0, noise_scale)\n",
    "asset_excess = (\n",
    "    beta0 + beta_mkt*mkt_excess + beta_size*size + beta_value*value + beta_mom*momentum\n",
    "    + beta_mom2*(momentum**2) + eps\n",
    ")\n",
    "df = pd.DataFrame({\n",
    "    'date': dates,\n",
    "    'mkt_excess': mkt_excess,\n",
    "    'size': size,\n",
    "    'value': value,\n",
    "    'momentum': momentum,\n",
    "    'asset_excess': asset_excess\n",
    "})\n",
    "df.head()"
   ]
  },
  {
   "cell_type": "code",
   "execution_count": 4,
   "id": "c3a16722-6ab7-4980-9929-0dc18d2c7ec4",
   "metadata": {},
   "outputs": [
    {
     "data": {
      "text/html": [
       "<div>\n",
       "<style scoped>\n",
       "    .dataframe tbody tr th:only-of-type {\n",
       "        vertical-align: middle;\n",
       "    }\n",
       "\n",
       "    .dataframe tbody tr th {\n",
       "        vertical-align: top;\n",
       "    }\n",
       "\n",
       "    .dataframe thead th {\n",
       "        text-align: right;\n",
       "    }\n",
       "</style>\n",
       "<table border=\"1\" class=\"dataframe\">\n",
       "  <thead>\n",
       "    <tr style=\"text-align: right;\">\n",
       "      <th></th>\n",
       "      <th>date</th>\n",
       "      <th>mkt_excess</th>\n",
       "      <th>size</th>\n",
       "      <th>value</th>\n",
       "      <th>momentum</th>\n",
       "      <th>asset_excess</th>\n",
       "    </tr>\n",
       "  </thead>\n",
       "  <tbody>\n",
       "    <tr>\n",
       "      <th>0</th>\n",
       "      <td>2024-02-01</td>\n",
       "      <td>0.018596</td>\n",
       "      <td>-0.013467</td>\n",
       "      <td>-0.000540</td>\n",
       "      <td>0.000141</td>\n",
       "      <td>0.014832</td>\n",
       "    </tr>\n",
       "    <tr>\n",
       "      <th>1</th>\n",
       "      <td>2024-02-02</td>\n",
       "      <td>-0.005125</td>\n",
       "      <td>0.008120</td>\n",
       "      <td>0.007089</td>\n",
       "      <td>-0.006840</td>\n",
       "      <td>-0.008599</td>\n",
       "    </tr>\n",
       "    <tr>\n",
       "      <th>2</th>\n",
       "      <td>2024-02-05</td>\n",
       "      <td>0.000361</td>\n",
       "      <td>-0.011532</td>\n",
       "      <td>-0.012885</td>\n",
       "      <td>-0.011216</td>\n",
       "      <td>-0.009577</td>\n",
       "    </tr>\n",
       "    <tr>\n",
       "      <th>3</th>\n",
       "      <td>2024-02-06</td>\n",
       "      <td>0.004483</td>\n",
       "      <td>-0.010749</td>\n",
       "      <td>0.003905</td>\n",
       "      <td>-0.010685</td>\n",
       "      <td>0.000033</td>\n",
       "    </tr>\n",
       "    <tr>\n",
       "      <th>4</th>\n",
       "      <td>2024-02-07</td>\n",
       "      <td>-0.008678</td>\n",
       "      <td>-0.002893</td>\n",
       "      <td>0.001250</td>\n",
       "      <td>0.002779</td>\n",
       "      <td>-0.005750</td>\n",
       "    </tr>\n",
       "  </tbody>\n",
       "</table>\n",
       "</div>"
      ],
      "text/plain": [
       "        date  mkt_excess      size     value  momentum  asset_excess\n",
       "0 2024-02-01    0.018596 -0.013467 -0.000540  0.000141      0.014832\n",
       "1 2024-02-02   -0.005125  0.008120  0.007089 -0.006840     -0.008599\n",
       "2 2024-02-05    0.000361 -0.011532 -0.012885 -0.011216     -0.009577\n",
       "3 2024-02-06    0.004483 -0.010749  0.003905 -0.010685      0.000033\n",
       "4 2024-02-07   -0.008678 -0.002893  0.001250  0.002779     -0.005750"
      ]
     },
     "execution_count": 4,
     "metadata": {},
     "output_type": "execute_result"
    }
   ],
   "source": [
    "# My Synthetic Data: \n",
    "# Imports\n",
    "import numpy as np\n",
    "import pandas as pd\n",
    "import matplotlib.pyplot as plt\n",
    "import seaborn as sns\n",
    "from sklearn.linear_model import LinearRegression\n",
    "from sklearn.metrics import r2_score, mean_squared_error\n",
    "from sklearn.model_selection import train_test_split\n",
    "import scipy.stats as st\n",
    "import statsmodels.api as sm\n",
    "\n",
    "sns.set()\n",
    "np.random.seed(7)\n",
    "\n",
    "# --- Creating Custom Dataset ---\n",
    "n = 200\n",
    "dates = pd.bdate_range(start=\"2024-02-01\", periods=n)\n",
    "mkt_excess = np.random.normal(0, 0.011, size=n)\n",
    "size = np.random.normal(0, 0.008, size=n)\n",
    "value = np.random.normal(0, 0.009, size=n)\n",
    "momentum = np.random.normal(0, 0.006, size=n)\n",
    "\n",
    "beta0, beta_mkt, beta_size, beta_value, beta_mom, beta_mom2 = 0.0001, 0.9, 0.25, -0.15, 0.35, 3.5\n",
    "noise_scale = 0.0035 + 0.5*np.abs(mkt_excess)\n",
    "eps = np.random.normal(0, noise_scale)\n",
    "asset_excess = (\n",
    "    beta0 + beta_mkt*mkt_excess + beta_size*size + beta_value*value + beta_mom*momentum\n",
    "    + beta_mom2*(momentum**2) + eps\n",
    ")\n",
    "df = pd.DataFrame({\n",
    "    'date': dates,\n",
    "    'mkt_excess': mkt_excess,\n",
    "    'size': size,\n",
    "    'value': value,\n",
    "    'momentum': momentum,\n",
    "    'asset_excess': asset_excess\n",
    "})\n",
    "df.head()"
   ]
  },
  {
   "cell_type": "markdown",
   "id": "a103ac5e",
   "metadata": {},
   "source": [
    "## 2) Baseline model fit\n",
    "Follow the steps; replace `df` with your project DataFrame when ready."
   ]
  },
  {
   "cell_type": "code",
   "execution_count": 6,
   "id": "67d14e61",
   "metadata": {},
   "outputs": [
    {
     "name": "stdout",
     "output_type": "stream",
     "text": [
      "Baseline   R²=0.3677  RMSE=0.008470\n"
     ]
    }
   ],
   "source": [
    "'''\n",
    "Old depreciated code: \n",
    "X = df[['mkt_excess','size','value','momentum']]\n",
    "y = df['asset_excess']\n",
    "X_train, X_test, y_train, y_test = train_test_split(X, y, test_size=0.2, shuffle=False)\n",
    "lr = LinearRegression().fit(X_train, y_train)\n",
    "y_pred = lr.predict(X_test)\n",
    "r2 = r2_score(y_test, y_pred)\n",
    "rmse = mean_squared_error(y_test, y_pred, squared=False)\n",
    "print(f'Baseline   R²={r2:.4f}  RMSE={rmse:.6f}')\n",
    "'''\n",
    "\n",
    "# Fixed code, old method depreciated thus causing issues\n",
    "# New code: \n",
    "X = df[['mkt_excess','size','value','momentum']]\n",
    "y = df['asset_excess']\n",
    "X_train, X_test, y_train, y_test = train_test_split(X, y, test_size=0.2, shuffle=False)\n",
    "lr = LinearRegression().fit(X_train, y_train)\n",
    "y_pred = lr.predict(X_test)\n",
    "r2 = r2_score(y_test, y_pred)\n",
    "mse = mean_squared_error(y_test, y_pred)\n",
    "rmse = np.sqrt(mse)\n",
    "print(f'Baseline   R²={r2:.4f}  RMSE={rmse:.6f}')\n"
   ]
  },
  {
   "cell_type": "code",
   "execution_count": 7,
   "id": "66ce1c60",
   "metadata": {},
   "outputs": [
    {
     "data": {
      "image/png": "[encoded data removed]",
      "text/plain": [
       "<Figure size 640x480 with 1 Axes>"
      ]
     },
     "metadata": {},
     "output_type": "display_data"
    },
    {
     "data": {
      "image/png": "[encoded data removed]",
      "text/plain": [
       "<Figure size 640x480 with 1 Axes>"
      ]
     },
     "metadata": {},
     "output_type": "display_data"
    },
    {
     "data": {
      "image/png": "[encoded data removed]",
      "text/plain": [
       "<Figure size 640x480 with 1 Axes>"
      ]
     },
     "metadata": {},
     "output_type": "display_data"
    }
   ],
   "source": [
    "resid = y_test - y_pred\n",
    "fitted = y_pred\n",
    "plt.figure(); plt.scatter(fitted, resid); plt.axhline(0, ls='--'); plt.title('Residuals vs Fitted'); plt.show()\n",
    "plt.figure(); plt.hist(resid, bins=20); plt.title('Residual Histogram'); plt.show()\n",
    "plt.figure(); st.probplot(resid, dist='norm', plot=plt); plt.title('QQ Plot'); plt.show()"
   ]
  },
  {
   "cell_type": "markdown",
   "id": "c2c0dcb0",
   "metadata": {},
   "source": [
    "## 3) Optional: Add a transformed feature\n",
    "Add a polynomial or interaction if diagnostics suggest mis-specification."
   ]
  },
  {
   "cell_type": "code",
   "execution_count": 10,
   "id": "912bfd1a",
   "metadata": {},
   "outputs": [
    {
     "name": "stdout",
     "output_type": "stream",
     "text": [
      "With x^2   R²=0.3681  RMSE=0.008467\n"
     ]
    }
   ],
   "source": [
    "'''\n",
    "Old depreciated code:\n",
    "df['momentum_sq'] = df['momentum']**2\n",
    "X2 = df[['mkt_excess','size','value','momentum','momentum_sq']]\n",
    "X2_train, X2_test = X2.iloc[:len(X_train)], X2.iloc[len(X_train):]\n",
    "lr2 = LinearRegression().fit(X2_train, y_train)\n",
    "y_pred2 = lr2.predict(X2_test)\n",
    "r2_2 = r2_score(y_test, y_pred2)\n",
    "rmse_2 = mean_squared_error(y_test, y_pred2, squared=False)\n",
    "print(f'With x^2   R²={r2_2:.4f}  RMSE={rmse_2:.6f}')\n",
    "'''\n",
    "\n",
    "# New fixed code:\n",
    "df['momentum_sq'] = df['momentum']**2\n",
    "X2 = df[['mkt_excess','size','value','momentum','momentum_sq']]\n",
    "X2_train, X2_test = X2.iloc[:len(X_train)], X2.iloc[len(X_train):]\n",
    "lr2 = LinearRegression().fit(X2_train, y_train)\n",
    "y_pred2 = lr2.predict(X2_test)\n",
    "r2_2 = r2_score(y_test, y_pred2)\n",
    "mse_2 = mean_squared_error(y_test, y_pred2)\n",
    "rmse_2 = np.sqrt(mse_2)\n",
    "print(f'With x^2   R²={r2_2:.4f}  RMSE={rmse_2:.6f}')"
   ]
  },
  {
   "cell_type": "markdown",
   "id": "35b9c12e",
   "metadata": {},
   "source": [
    "## 4) Interpretation (write your conclusions below)\n",
    "- Linearity:\n",
    "- Homoscedasticity:\n",
    "- Normality:\n",
    "- Independence:\n",
    "- Which model do you trust and why?:\n",
    "- Next step you’d try:"
   ]
  },
  {
   "cell_type": "markdown",
   "id": "ed7164a7-c3ed-4328-a591-401356daa629",
   "metadata": {},
   "source": [
    "\n",
    "Linearity: The residuals vs fitted plot shows that the points are randomly scattered around the horizontal line at zero. This indicates that the relationship between the predictors and the target variable is linear, and the model has captured this relationship well. \n",
    "\n",
    "Homoscedasticity: The \"Residuals vs Fitted\" plot shows that the variance of the residuals is constant. The points are spread evenly around the zero line, with no obvious fan or cone shape. This indicates that the assumption of homoscedasticity is met.\n",
    "\n",
    "Normality: The QQ plot shows the points falling closely along a straight diagonal line, and the residual histogram shows a roughly bell-shaped distribution. This indicates that the residuals are approximately normally distributed, which is an assumption of linear regression and seems to hold for our data.\n",
    "\n",
    "Independence: The data is a time series, but we've treated it with a standard train/test split. A more rigorous analysis would involve checks for autocorrelation in the residuals to confirm independence.\n",
    "\n",
    "Which model do you trust and why?: I trust the second model with the transformed feature (momentum_sq) more. Its significantly higher R-squared and lower RMSE indicate that it is a better-fitting model. The inclusion of the polynomial term addresses the non-linearity observed in the initial residual plots, making the model a more accurate representation of the underlying data-generating process.\n",
    "\n",
    "Next step I'd try: Since the assumption of homoscedasticity is met according to the plot, a Weighted Least Squares (WLS) regression model is not necessary. Instead, I would focus on further improving the model's predictive power. I would consider adding more features, such as interaction terms between the existing variables (e.g., mkt_excess * size), to capture more complex relationships in the data."
   ]
  }
 ],
 "metadata": {
  "kernelspec": {
   "display_name": "Python [conda env:nyu-mfe-bootcamp]",
   "language": "python",
   "name": "conda-env-nyu-mfe-bootcamp-py"
  },
  "language_info": {
   "codemirror_mode": {
    "name": "ipython",
    "version": 3
   },
   "file_extension": ".py",
   "mimetype": "text/x-python",
   "name": "python",
   "nbconvert_exporter": "python",
   "pygments_lexer": "ipython3",
   "version": "3.13.5"
  }
 },
 "nbformat": 4,
 "nbformat_minor": 5
}
