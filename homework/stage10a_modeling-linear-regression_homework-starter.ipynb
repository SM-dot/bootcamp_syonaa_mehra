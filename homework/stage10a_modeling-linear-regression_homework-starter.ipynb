{
 "cells": [
  {
   "cell_type": "markdown",
   "id": "be497878",
   "metadata": {},
   "source": [
    "# Homework Starter — Stage 10a: Linear Regression\n",
    "\n",
    "Use this as a scaffold if your project data isn’t ready. Replace the synthetic data section with your dataset when possible."
   ]
  },
  {
   "cell_type": "code",
   "execution_count": 1,
   "id": "61524248",
   "metadata": {},
   "outputs": [],
   "source": [
    "# Imports\n",
    "import numpy as np\n",
    "import pandas as pd\n",
    "import matplotlib.pyplot as plt\n",
    "import seaborn as sns\n",
    "from sklearn.linear_model import LinearRegression\n",
    "from sklearn.metrics import r2_score, mean_squared_error\n",
    "from sklearn.model_selection import train_test_split\n",
    "import scipy.stats as st\n",
    "\n",
    "sns.set()\n",
    "np.random.seed(7)"
   ]
  },
  {
   "cell_type": "markdown",
   "id": "c7f6d6af",
   "metadata": {},
   "source": [
    "## 1) Synthetic data (replace with your project data when ready)\n",
    "- Finance-flavored factors and asset excess return\n",
    "- Includes a quadratic effect to motivate specification checks"
   ]
  },
  {
   "cell_type": "code",
   "execution_count": 2,
   "id": "f3b92ab3",
   "metadata": {},
   "outputs": [
    {
     "data": {
      "text/html": [
       "<div>\n",
       "<style scoped>\n",
       "    .dataframe tbody tr th:only-of-type {\n",
       "        vertical-align: middle;\n",
       "    }\n",
       "\n",
       "    .dataframe tbody tr th {\n",
       "        vertical-align: top;\n",
       "    }\n",
       "\n",
       "    .dataframe thead th {\n",
       "        text-align: right;\n",
       "    }\n",
       "</style>\n",
       "<table border=\"1\" class=\"dataframe\">\n",
       "  <thead>\n",
       "    <tr style=\"text-align: right;\">\n",
       "      <th></th>\n",
       "      <th>date</th>\n",
       "      <th>mkt_excess</th>\n",
       "      <th>size</th>\n",
       "      <th>value</th>\n",
       "      <th>momentum</th>\n",
       "      <th>asset_excess</th>\n",
       "    </tr>\n",
       "  </thead>\n",
       "  <tbody>\n",
       "    <tr>\n",
       "      <th>0</th>\n",
       "      <td>2024-02-01</td>\n",
       "      <td>0.018596</td>\n",
       "      <td>-0.013467</td>\n",
       "      <td>-0.000540</td>\n",
       "      <td>0.000141</td>\n",
       "      <td>0.014832</td>\n",
       "    </tr>\n",
       "    <tr>\n",
       "      <th>1</th>\n",
       "      <td>2024-02-02</td>\n",
       "      <td>-0.005125</td>\n",
       "      <td>0.008120</td>\n",
       "      <td>0.007089</td>\n",
       "      <td>-0.006840</td>\n",
       "      <td>-0.008599</td>\n",
       "    </tr>\n",
       "    <tr>\n",
       "      <th>2</th>\n",
       "      <td>2024-02-05</td>\n",
       "      <td>0.000361</td>\n",
       "      <td>-0.011532</td>\n",
       "      <td>-0.012885</td>\n",
       "      <td>-0.011216</td>\n",
       "      <td>-0.009577</td>\n",
       "    </tr>\n",
       "    <tr>\n",
       "      <th>3</th>\n",
       "      <td>2024-02-06</td>\n",
       "      <td>0.004483</td>\n",
       "      <td>-0.010749</td>\n",
       "      <td>0.003905</td>\n",
       "      <td>-0.010685</td>\n",
       "      <td>0.000033</td>\n",
       "    </tr>\n",
       "    <tr>\n",
       "      <th>4</th>\n",
       "      <td>2024-02-07</td>\n",
       "      <td>-0.008678</td>\n",
       "      <td>-0.002893</td>\n",
       "      <td>0.001250</td>\n",
       "      <td>0.002779</td>\n",
       "      <td>-0.005750</td>\n",
       "    </tr>\n",
       "  </tbody>\n",
       "</table>\n",
       "</div>"
      ],
      "text/plain": [
       "        date  mkt_excess      size     value  momentum  asset_excess\n",
       "0 2024-02-01    0.018596 -0.013467 -0.000540  0.000141      0.014832\n",
       "1 2024-02-02   -0.005125  0.008120  0.007089 -0.006840     -0.008599\n",
       "2 2024-02-05    0.000361 -0.011532 -0.012885 -0.011216     -0.009577\n",
       "3 2024-02-06    0.004483 -0.010749  0.003905 -0.010685      0.000033\n",
       "4 2024-02-07   -0.008678 -0.002893  0.001250  0.002779     -0.005750"
      ]
     },
     "execution_count": 2,
     "metadata": {},
     "output_type": "execute_result"
    }
   ],
   "source": [
    "n = 200\n",
    "dates = pd.bdate_range(start=\"2024-02-01\", periods=n)\n",
    "mkt_excess = np.random.normal(0, 0.011, size=n)\n",
    "size = np.random.normal(0, 0.008, size=n)\n",
    "value = np.random.normal(0, 0.009, size=n)\n",
    "momentum = np.random.normal(0, 0.006, size=n)\n",
    "\n",
    "beta0, beta_mkt, beta_size, beta_value, beta_mom, beta_mom2 = 0.0001, 0.9, 0.25, -0.15, 0.35, 3.5\n",
    "noise_scale = 0.0035 + 0.5*np.abs(mkt_excess)\n",
    "eps = np.random.normal(0, noise_scale)\n",
    "asset_excess = (\n",
    "    beta0 + beta_mkt*mkt_excess + beta_size*size + beta_value*value + beta_mom*momentum\n",
    "    + beta_mom2*(momentum**2) + eps\n",
    ")\n",
    "df = pd.DataFrame({\n",
    "    'date': dates,\n",
    "    'mkt_excess': mkt_excess,\n",
    "    'size': size,\n",
    "    'value': value,\n",
    "    'momentum': momentum,\n",
    "    'asset_excess': asset_excess\n",
    "})\n",
    "df.head()"
   ]
  },
  {
   "cell_type": "markdown",
   "id": "a103ac5e",
   "metadata": {},
   "source": [
    "## 2) Baseline model fit\n",
    "Follow the steps; replace `df` with your project DataFrame when ready."
   ]
  },
  {
   "cell_type": "code",
   "execution_count": 3,
   "id": "67d14e61",
   "metadata": {},
   "outputs": [
    {
     "ename": "TypeError",
     "evalue": "got an unexpected keyword argument 'squared'",
     "output_type": "error",
     "traceback": [
      "\u001b[31m---------------------------------------------------------------------------\u001b[39m",
      "\u001b[31mTypeError\u001b[39m                                 Traceback (most recent call last)",
      "\u001b[36mCell\u001b[39m\u001b[36m \u001b[39m\u001b[32mIn[3]\u001b[39m\u001b[32m, line 7\u001b[39m\n\u001b[32m      5\u001b[39m y_pred = lr.predict(X_test)\n\u001b[32m      6\u001b[39m r2 = r2_score(y_test, y_pred)\n\u001b[32m----> \u001b[39m\u001b[32m7\u001b[39m rmse = \u001b[43mmean_squared_error\u001b[49m\u001b[43m(\u001b[49m\u001b[43my_test\u001b[49m\u001b[43m,\u001b[49m\u001b[43m \u001b[49m\u001b[43my_pred\u001b[49m\u001b[43m,\u001b[49m\u001b[43m \u001b[49m\u001b[43msquared\u001b[49m\u001b[43m=\u001b[49m\u001b[38;5;28;43;01mFalse\u001b[39;49;00m\u001b[43m)\u001b[49m\n\u001b[32m      8\u001b[39m \u001b[38;5;28mprint\u001b[39m(\u001b[33mf\u001b[39m\u001b[33m'\u001b[39m\u001b[33mBaseline   R²=\u001b[39m\u001b[38;5;132;01m{\u001b[39;00mr2\u001b[38;5;132;01m:\u001b[39;00m\u001b[33m.4f\u001b[39m\u001b[38;5;132;01m}\u001b[39;00m\u001b[33m  RMSE=\u001b[39m\u001b[38;5;132;01m{\u001b[39;00mrmse\u001b[38;5;132;01m:\u001b[39;00m\u001b[33m.6f\u001b[39m\u001b[38;5;132;01m}\u001b[39;00m\u001b[33m'\u001b[39m)\n",
      "\u001b[36mFile \u001b[39m\u001b[32m/opt/anaconda3/envs/nyu-mfe-bootcamp/lib/python3.13/site-packages/sklearn/utils/_param_validation.py:196\u001b[39m, in \u001b[36mvalidate_params.<locals>.decorator.<locals>.wrapper\u001b[39m\u001b[34m(*args, **kwargs)\u001b[39m\n\u001b[32m    193\u001b[39m func_sig = signature(func)\n\u001b[32m    195\u001b[39m \u001b[38;5;66;03m# Map *args/**kwargs to the function signature\u001b[39;00m\n\u001b[32m--> \u001b[39m\u001b[32m196\u001b[39m params = \u001b[43mfunc_sig\u001b[49m\u001b[43m.\u001b[49m\u001b[43mbind\u001b[49m\u001b[43m(\u001b[49m\u001b[43m*\u001b[49m\u001b[43margs\u001b[49m\u001b[43m,\u001b[49m\u001b[43m \u001b[49m\u001b[43m*\u001b[49m\u001b[43m*\u001b[49m\u001b[43mkwargs\u001b[49m\u001b[43m)\u001b[49m\n\u001b[32m    197\u001b[39m params.apply_defaults()\n\u001b[32m    199\u001b[39m \u001b[38;5;66;03m# ignore self/cls and positional/keyword markers\u001b[39;00m\n",
      "\u001b[36mFile \u001b[39m\u001b[32m/opt/anaconda3/envs/nyu-mfe-bootcamp/lib/python3.13/inspect.py:3295\u001b[39m, in \u001b[36mSignature.bind\u001b[39m\u001b[34m(self, *args, **kwargs)\u001b[39m\n\u001b[32m   3290\u001b[39m \u001b[38;5;28;01mdef\u001b[39;00m\u001b[38;5;250m \u001b[39m\u001b[34mbind\u001b[39m(\u001b[38;5;28mself\u001b[39m, /, *args, **kwargs):\n\u001b[32m   3291\u001b[39m \u001b[38;5;250m    \u001b[39m\u001b[33;03m\"\"\"Get a BoundArguments object, that maps the passed `args`\u001b[39;00m\n\u001b[32m   3292\u001b[39m \u001b[33;03m    and `kwargs` to the function's signature.  Raises `TypeError`\u001b[39;00m\n\u001b[32m   3293\u001b[39m \u001b[33;03m    if the passed arguments can not be bound.\u001b[39;00m\n\u001b[32m   3294\u001b[39m \u001b[33;03m    \"\"\"\u001b[39;00m\n\u001b[32m-> \u001b[39m\u001b[32m3295\u001b[39m     \u001b[38;5;28;01mreturn\u001b[39;00m \u001b[38;5;28;43mself\u001b[39;49m\u001b[43m.\u001b[49m\u001b[43m_bind\u001b[49m\u001b[43m(\u001b[49m\u001b[43margs\u001b[49m\u001b[43m,\u001b[49m\u001b[43m \u001b[49m\u001b[43mkwargs\u001b[49m\u001b[43m)\u001b[49m\n",
      "\u001b[36mFile \u001b[39m\u001b[32m/opt/anaconda3/envs/nyu-mfe-bootcamp/lib/python3.13/inspect.py:3284\u001b[39m, in \u001b[36mSignature._bind\u001b[39m\u001b[34m(self, args, kwargs, partial)\u001b[39m\n\u001b[32m   3274\u001b[39m         \u001b[38;5;28;01mraise\u001b[39;00m \u001b[38;5;167;01mTypeError\u001b[39;00m(\n\u001b[32m   3275\u001b[39m             \u001b[33m'\u001b[39m\u001b[33mgot some positional-only arguments passed as \u001b[39m\u001b[33m'\u001b[39m\n\u001b[32m   3276\u001b[39m             \u001b[33m'\u001b[39m\u001b[33mkeyword arguments: \u001b[39m\u001b[38;5;132;01m{arg!r}\u001b[39;00m\u001b[33m'\u001b[39m.format(\n\u001b[32m   (...)\u001b[39m\u001b[32m   3281\u001b[39m             ),\n\u001b[32m   3282\u001b[39m         )\n\u001b[32m   3283\u001b[39m     \u001b[38;5;28;01melse\u001b[39;00m:\n\u001b[32m-> \u001b[39m\u001b[32m3284\u001b[39m         \u001b[38;5;28;01mraise\u001b[39;00m \u001b[38;5;167;01mTypeError\u001b[39;00m(\n\u001b[32m   3285\u001b[39m             \u001b[33m'\u001b[39m\u001b[33mgot an unexpected keyword argument \u001b[39m\u001b[38;5;132;01m{arg!r}\u001b[39;00m\u001b[33m'\u001b[39m.format(\n\u001b[32m   3286\u001b[39m                 arg=\u001b[38;5;28mnext\u001b[39m(\u001b[38;5;28miter\u001b[39m(kwargs))))\n\u001b[32m   3288\u001b[39m \u001b[38;5;28;01mreturn\u001b[39;00m \u001b[38;5;28mself\u001b[39m._bound_arguments_cls(\u001b[38;5;28mself\u001b[39m, arguments)\n",
      "\u001b[31mTypeError\u001b[39m: got an unexpected keyword argument 'squared'"
     ]
    }
   ],
   "source": [
    "X = df[['mkt_excess','size','value','momentum']]\n",
    "y = df['asset_excess']\n",
    "X_train, X_test, y_train, y_test = train_test_split(X, y, test_size=0.2, shuffle=False)\n",
    "lr = LinearRegression().fit(X_train, y_train)\n",
    "y_pred = lr.predict(X_test)\n",
    "r2 = r2_score(y_test, y_pred)\n",
    "rmse = mean_squared_error(y_test, y_pred, squared=False)\n",
    "print(f'Baseline   R²={r2:.4f}  RMSE={rmse:.6f}')"
   ]
  },
  {
   "cell_type": "code",
   "execution_count": null,
   "id": "66ce1c60",
   "metadata": {},
   "outputs": [],
   "source": [
    "resid = y_test - y_pred\n",
    "fitted = y_pred\n",
    "plt.figure(); plt.scatter(fitted, resid); plt.axhline(0, ls='--'); plt.title('Residuals vs Fitted'); plt.show()\n",
    "plt.figure(); plt.hist(resid, bins=20); plt.title('Residual Histogram'); plt.show()\n",
    "plt.figure(); st.probplot(resid, dist='norm', plot=plt); plt.title('QQ Plot'); plt.show()"
   ]
  },
  {
   "cell_type": "markdown",
   "id": "c2c0dcb0",
   "metadata": {},
   "source": [
    "## 3) Optional: Add a transformed feature\n",
    "Add a polynomial or interaction if diagnostics suggest mis-specification."
   ]
  },
  {
   "cell_type": "code",
   "execution_count": null,
   "id": "912bfd1a",
   "metadata": {},
   "outputs": [],
   "source": [
    "df['momentum_sq'] = df['momentum']**2\n",
    "X2 = df[['mkt_excess','size','value','momentum','momentum_sq']]\n",
    "X2_train, X2_test = X2.iloc[:len(X_train)], X2.iloc[len(X_train):]\n",
    "lr2 = LinearRegression().fit(X2_train, y_train)\n",
    "y_pred2 = lr2.predict(X2_test)\n",
    "r2_2 = r2_score(y_test, y_pred2)\n",
    "rmse_2 = mean_squared_error(y_test, y_pred2, squared=False)\n",
    "print(f'With x^2   R²={r2_2:.4f}  RMSE={rmse_2:.6f}')"
   ]
  },
  {
   "cell_type": "markdown",
   "id": "35b9c12e",
   "metadata": {},
   "source": [
    "## 4) Interpretation (write your conclusions below)\n",
    "- Linearity:\n",
    "- Homoscedasticity:\n",
    "- Normality:\n",
    "- Independence:\n",
    "- Which model do you trust and why?:\n",
    "- Next step you’d try:"
   ]
  }
 ],
 "metadata": {
  "kernelspec": {
   "display_name": "Python [conda env:nyu-mfe-bootcamp]",
   "language": "python",
   "name": "conda-env-nyu-mfe-bootcamp-py"
  },
  "language_info": {
   "codemirror_mode": {
    "name": "ipython",
    "version": 3
   },
   "file_extension": ".py",
   "mimetype": "text/x-python",
   "name": "python",
   "nbconvert_exporter": "python",
   "pygments_lexer": "ipython3",
   "version": "3.13.5"
  }
 },
 "nbformat": 4,
 "nbformat_minor": 5
}
